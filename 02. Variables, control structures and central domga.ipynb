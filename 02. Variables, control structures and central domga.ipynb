{
 "metadata": {
  "name": ""
 },
 "nbformat": 3,
 "nbformat_minor": 0,
 "worksheets": [
  {
   "cells": [
    {
     "cell_type": "markdown",
     "metadata": {
      "slideshow": {
       "slide_type": "slide"
      }
     },
     "source": [
      "#Today\n",
      "\n",
      "- introduction to Python part I\n",
      "    - variables\n",
      "    - lists\n",
      "    - strings\n",
      "    - dictionaries\n",
      "    - control structures\n",
      "    - working with files\n",
      "- introduction to DNA\n",
      "- Biopython to the rescue"
     ]
    },
    {
     "cell_type": "markdown",
     "metadata": {
      "slideshow": {
       "slide_type": "slide"
      }
     },
     "source": [
      "## Variables\n",
      "store values for you to use later"
     ]
    },
    {
     "cell_type": "code",
     "collapsed": false,
     "input": [
      "a=1\n",
      "b=\"goat\""
     ],
     "language": "python",
     "metadata": {
      "slideshow": {
       "slide_type": "fragment"
      }
     },
     "outputs": [],
     "prompt_number": 2
    },
    {
     "cell_type": "code",
     "collapsed": false,
     "input": [
      "print a\n",
      "print b"
     ],
     "language": "python",
     "metadata": {
      "slideshow": {
       "slide_type": "fragment"
      }
     },
     "outputs": [
      {
       "output_type": "stream",
       "stream": "stdout",
       "text": [
        "1\n",
        "goat\n"
       ]
      }
     ],
     "prompt_number": 3
    },
    {
     "cell_type": "markdown",
     "metadata": {
      "slideshow": {
       "slide_type": "fragment"
      }
     },
     "source": [
      "*\"goat\"* and *2* are different data types in python. The first is a string, and the other is a number.\n",
      "\n",
      "  - Stings stores text\n",
      "  - With numbers you can do arithmetic"
     ]
    },
    {
     "cell_type": "markdown",
     "metadata": {
      "slideshow": {
       "slide_type": "subslide"
      }
     },
     "source": [
      "You can perform operation on variables"
     ]
    },
    {
     "cell_type": "code",
     "collapsed": false,
     "input": [
      "b = \"cow \"+ b\n",
      "a+=1\n",
      "print b\n",
      "print a"
     ],
     "language": "python",
     "metadata": {
      "slideshow": {
       "slide_type": "fragment"
      }
     },
     "outputs": [
      {
       "output_type": "stream",
       "stream": "stdout",
       "text": [
        "cow goat\n",
        "2\n"
       ]
      }
     ],
     "prompt_number": 4
    },
    {
     "cell_type": "markdown",
     "metadata": {
      "slideshow": {
       "slide_type": "subslide"
      }
     },
     "source": [
      "Now let's try a fancier operation"
     ]
    },
    {
     "cell_type": "code",
     "collapsed": false,
     "input": [
      "sqrt(a)"
     ],
     "language": "python",
     "metadata": {
      "slideshow": {
       "slide_type": "fragment"
      }
     },
     "outputs": [
      {
       "ename": "NameError",
       "evalue": "name 'sqrt' is not defined",
       "output_type": "pyerr",
       "traceback": [
        "\u001b[0;31m---------------------------------------------------------------------------\u001b[0m\n\u001b[0;31mNameError\u001b[0m                                 Traceback (most recent call last)",
        "\u001b[0;32m<ipython-input-5-d1bfb94b72b1>\u001b[0m in \u001b[0;36m<module>\u001b[0;34m()\u001b[0m\n\u001b[0;32m----> 1\u001b[0;31m \u001b[0msqrt\u001b[0m\u001b[0;34m(\u001b[0m\u001b[0ma\u001b[0m\u001b[0;34m)\u001b[0m\u001b[0;34m\u001b[0m\u001b[0m\n\u001b[0m",
        "\u001b[0;31mNameError\u001b[0m: name 'sqrt' is not defined"
       ]
      }
     ],
     "prompt_number": 5
    },
    {
     "cell_type": "markdown",
     "metadata": {
      "slideshow": {
       "slide_type": "fragment"
      }
     },
     "source": [
      "Not good, right?\n",
      "This is because not all possible features are loaded into python by default. So, let's try getting a function from the *math* module, which is a library of various functions"
     ]
    },
    {
     "cell_type": "code",
     "collapsed": false,
     "input": [
      "from math import sqrt"
     ],
     "language": "python",
     "metadata": {
      "slideshow": {
       "slide_type": "fragment"
      }
     },
     "outputs": [],
     "prompt_number": 6
    },
    {
     "cell_type": "code",
     "collapsed": false,
     "input": [
      "sqrt(a)"
     ],
     "language": "python",
     "metadata": {
      "slideshow": {
       "slide_type": "fragment"
      }
     },
     "outputs": [
      {
       "metadata": {},
       "output_type": "pyout",
       "prompt_number": 7,
       "text": [
        "1.4142135623730951"
       ]
      }
     ],
     "prompt_number": 7
    },
    {
     "cell_type": "markdown",
     "metadata": {
      "slideshow": {
       "slide_type": "subslide"
      }
     },
     "source": [
      "Now, we are not limited to functions others have written, so let's try writing a function ourselves"
     ]
    },
    {
     "cell_type": "code",
     "collapsed": false,
     "input": [
      "def oneplus(x):\n",
      "    return x+1\n",
      "\n",
      "#now we run it\n",
      "oneplus(3)"
     ],
     "language": "python",
     "metadata": {
      "slideshow": {
       "slide_type": "fragment"
      }
     },
     "outputs": [
      {
       "metadata": {},
       "output_type": "pyout",
       "prompt_number": 8,
       "text": [
        "4"
       ]
      }
     ],
     "prompt_number": 8
    },
    {
     "cell_type": "markdown",
     "metadata": {
      "slideshow": {
       "slide_type": "fragment"
      }
     },
     "source": [
      "Notice that there is a comment in the code, indicated by the *#* symbol"
     ]
    },
    {
     "cell_type": "markdown",
     "metadata": {
      "slideshow": {
       "slide_type": "fragment"
      }
     },
     "source": [
      "Also notice that the *return* statement is indented. That's how the program knows where the function ends.\n",
      "\n",
      "  - Try removing the indent and re-running the cell.\n",
      "  - Try adding another operation to the function\n",
      "  \n",
      "What do you think is the function of the colon (:)?"
     ]
    },
    {
     "cell_type": "markdown",
     "metadata": {
      "slideshow": {
       "slide_type": "fragment"
      }
     },
     "source": [
      "Final note, a tab character is not equivalent to its length in spaces.\n",
      "Ipython converts everything to spaces, but regula python will give you an error"
     ]
    },
    {
     "cell_type": "markdown",
     "metadata": {
      "slideshow": {
       "slide_type": "subslide"
      }
     },
     "source": [
      "# Notes on variable names\n",
      "  - descriptive give meaningful names to your variables\n",
      "  - *e.g.* \"banana\" if it's a single name of a variable holding a banana object, and \"bananas\" if it's a list of banana objects"
     ]
    },
    {
     "cell_type": "markdown",
     "metadata": {
      "slideshow": {
       "slide_type": "slide"
      }
     },
     "source": [
      "# What is a list, you say?\n",
      "  - A list is a built-in type, which stores an ordered collection of objects\n",
      "  - Let's create two lists of numbers"
     ]
    },
    {
     "cell_type": "code",
     "collapsed": false,
     "input": [
      "mylist1 =  [1, 2, 3, 4]\n",
      "mylist2 =  range(10)\n",
      "print mylist1\n",
      "print mylist2"
     ],
     "language": "python",
     "metadata": {
      "slideshow": {
       "slide_type": "fragment"
      }
     },
     "outputs": [
      {
       "output_type": "stream",
       "stream": "stdout",
       "text": [
        "[1, 2, 3, 4]\n",
        "[0, 1, 2, 3, 4, 5, 6, 7, 8, 9]\n"
       ]
      }
     ],
     "prompt_number": 9
    },
    {
     "cell_type": "markdown",
     "metadata": {
      "slideshow": {
       "slide_type": "fragment"
      }
     },
     "source": [
      "Note that the range function doesn't give you the last number in the list -- some day this will get you."
     ]
    },
    {
     "cell_type": "markdown",
     "metadata": {
      "slideshow": {
       "slide_type": "fragment"
      }
     },
     "source": [
      "Lists can be manipulated with a variety of methods"
     ]
    },
    {
     "cell_type": "code",
     "collapsed": false,
     "input": [
      "mylist1 + mylist2"
     ],
     "language": "python",
     "metadata": {
      "slideshow": {
       "slide_type": "fragment"
      }
     },
     "outputs": [
      {
       "metadata": {},
       "output_type": "pyout",
       "prompt_number": 10,
       "text": [
        "[1, 2, 3, 4, 0, 1, 2, 3, 4, 5, 6, 7, 8, 9]"
       ]
      }
     ],
     "prompt_number": 10
    },
    {
     "cell_type": "code",
     "collapsed": false,
     "input": [
      "mylist = range(5)\n",
      "mylist.append('spam')    #lists can be made up of strings and numbers!\n",
      "print mylist\n",
      "mylist.pop()\n",
      "print mylist"
     ],
     "language": "python",
     "metadata": {
      "slideshow": {
       "slide_type": "fragment"
      }
     },
     "outputs": [
      {
       "output_type": "stream",
       "stream": "stdout",
       "text": [
        "[0, 1, 2, 3, 4, 'spam']\n",
        "[0, 1, 2, 3, 4]\n"
       ]
      }
     ],
     "prompt_number": 11
    },
    {
     "cell_type": "markdown",
     "metadata": {
      "slideshow": {
       "slide_type": "subslide"
      }
     },
     "source": [
      "List slices are particularly useful"
     ]
    },
    {
     "cell_type": "code",
     "collapsed": false,
     "input": [
      "mylist = range(5)\n",
      "print mylist[1:3]"
     ],
     "language": "python",
     "metadata": {
      "slideshow": {
       "slide_type": "fragment"
      }
     },
     "outputs": [
      {
       "output_type": "stream",
       "stream": "stdout",
       "text": [
        "[1, 2]\n"
       ]
      }
     ],
     "prompt_number": 12
    },
    {
     "cell_type": "code",
     "collapsed": false,
     "input": [
      "print mylist[:3]"
     ],
     "language": "python",
     "metadata": {
      "slideshow": {
       "slide_type": "fragment"
      }
     },
     "outputs": [
      {
       "output_type": "stream",
       "stream": "stdout",
       "text": [
        "[0, 1, 2]\n"
       ]
      }
     ],
     "prompt_number": 13
    },
    {
     "cell_type": "code",
     "collapsed": false,
     "input": [
      "print mylist[0:5:2]  #step notation"
     ],
     "language": "python",
     "metadata": {
      "slideshow": {
       "slide_type": "fragment"
      }
     },
     "outputs": [
      {
       "output_type": "stream",
       "stream": "stdout",
       "text": [
        "[0, 2, 4]\n"
       ]
      }
     ],
     "prompt_number": 14
    },
    {
     "cell_type": "code",
     "collapsed": false,
     "input": [
      "print mylist[-1]"
     ],
     "language": "python",
     "metadata": {
      "slideshow": {
       "slide_type": "fragment"
      }
     },
     "outputs": [
      {
       "output_type": "stream",
       "stream": "stdout",
       "text": [
        "4\n"
       ]
      }
     ],
     "prompt_number": 15
    },
    {
     "cell_type": "code",
     "collapsed": false,
     "input": [
      "mylist[0:2] = \"g\"\n",
      "print mylist"
     ],
     "language": "python",
     "metadata": {
      "slideshow": {
       "slide_type": "fragment"
      }
     },
     "outputs": [
      {
       "output_type": "stream",
       "stream": "stdout",
       "text": [
        "['g', 2, 3, 4]\n"
       ]
      }
     ],
     "prompt_number": 16
    },
    {
     "cell_type": "markdown",
     "metadata": {
      "slideshow": {
       "slide_type": "fragment"
      }
     },
     "source": [
      "**Question:** How would you reverse a list using slice notation?\n",
      "\n",
      "Try it:"
     ]
    },
    {
     "cell_type": "code",
     "collapsed": false,
     "input": [],
     "language": "python",
     "metadata": {
      "slideshow": {
       "slide_type": "fragment"
      }
     },
     "outputs": [],
     "prompt_number": 16
    },
    {
     "cell_type": "markdown",
     "metadata": {
      "slideshow": {
       "slide_type": "slide"
      }
     },
     "source": [
      "# Strings and string operations\n",
      "\n",
      "  - strings are \"immutable\", i.e., you cannot change them\n",
      "  - however, there are many ways they can be manipulated, and even sliced like lists"
     ]
    },
    {
     "cell_type": "code",
     "collapsed": false,
     "input": [
      "s = 'When danger reared its ugly head'\n",
      "print s[1]\n",
      "print len(s)\n",
      "print s + ', brave Sir Robin turned and fled'"
     ],
     "language": "python",
     "metadata": {
      "slideshow": {
       "slide_type": "fragment"
      }
     },
     "outputs": [
      {
       "output_type": "stream",
       "stream": "stdout",
       "text": [
        "h\n",
        "32\n",
        "When danger reared its ugly head, brave Sir Robin turned and fled\n"
       ]
      }
     ],
     "prompt_number": 17
    },
    {
     "cell_type": "markdown",
     "metadata": {
      "slideshow": {
       "slide_type": "fragment"
      }
     },
     "source": [
      "Why is s[1] 'h' and not 'W'?"
     ]
    },
    {
     "cell_type": "markdown",
     "metadata": {
      "slideshow": {
       "slide_type": "fragment"
      }
     },
     "source": [
      "In fact, lists and strings can be converted:"
     ]
    },
    {
     "cell_type": "code",
     "collapsed": false,
     "input": [
      "mylist = list(\"banana\")\n",
      "print mylist\n",
      "print \"\".join(mylist)"
     ],
     "language": "python",
     "metadata": {
      "slideshow": {
       "slide_type": "fragment"
      }
     },
     "outputs": [
      {
       "output_type": "stream",
       "stream": "stdout",
       "text": [
        "['b', 'a', 'n', 'a', 'n', 'a']\n",
        "banana\n"
       ]
      }
     ],
     "prompt_number": 18
    },
    {
     "cell_type": "markdown",
     "metadata": {
      "slideshow": {
       "slide_type": "fragment"
      }
     },
     "source": [
      "What did the *join* command do?\n",
      "\n",
      "Is the *join* command a string or a list method?"
     ]
    },
    {
     "cell_type": "markdown",
     "metadata": {
      "slideshow": {
       "slide_type": "subslide"
      }
     },
     "source": [
      "# Printing formatted strings\n",
      "\n",
      "Python allows you to print strings with comlicated formatting using the % operator to specify them."
     ]
    },
    {
     "cell_type": "code",
     "collapsed": false,
     "input": [
      "print \"%s shall be the number of the counting, and the number of the counting shall be %i\" % (\"Three\", 3)\n",
      "print \",\".join([\"Four shalt thou not count\", \" neither shalt thou count two\", \" excepting that thou then proceedeth to three.\"]) \n",
      "myvar = \"5\"\n",
      "print \"%s is right out.\" % myvar\n",
      "print \"Once the number %.2f, being the number of the counting, be reached, then lobbest thou the Holy Hand Grenade.\" % float(\"3\") "
     ],
     "language": "python",
     "metadata": {
      "slideshow": {
       "slide_type": "fragment"
      }
     },
     "outputs": [
      {
       "output_type": "stream",
       "stream": "stdout",
       "text": [
        "Three shall be the number of the counting, and the number of the counting shall be 3\n",
        "Four shalt thou not count, neither shalt thou count two, excepting that thou then proceedeth to three.\n",
        "5 is right out.\n",
        "Once the number 3.00, being the number of the counting, be reached, then lobbest thou the Holy Hand Grenade.\n"
       ]
      }
     ],
     "prompt_number": 19
    },
    {
     "cell_type": "markdown",
     "metadata": {
      "slideshow": {
       "slide_type": "fragment"
      }
     },
     "source": [
      "  - Why is it necessary to use the float function in the last example?\n",
      "  \n",
      "  "
     ]
    },
    {
     "cell_type": "markdown",
     "metadata": {
      "slideshow": {
       "slide_type": "slide"
      }
     },
     "source": [
      "# Dictionaries\n",
      "   - This is perhaps the most sophisticated useful of the built-in data types\n",
      "   - dictionaries allow you to study relationships between data\n",
      "   - dictionaries have 'keys' and 'values':\n",
      "      - they report a value, given a key"
     ]
    },
    {
     "cell_type": "code",
     "collapsed": false,
     "input": [
      "mydict = {}\n",
      "mydict['a'] = 1\n",
      "mydict['g'] = 2\n",
      "mydict[3] = 'goat'    # you can use numbers for keys\n",
      "myvar = 4\n",
      "mydict[myvar] = 'spam'   # or even variables (and other data structures)\n",
      "\n",
      "print mydict\n",
      "print mydict[3]"
     ],
     "language": "python",
     "metadata": {
      "slideshow": {
       "slide_type": "fragment"
      }
     },
     "outputs": [
      {
       "output_type": "stream",
       "stream": "stdout",
       "text": [
        "{'a': 1, 3: 'goat', 4: 'spam', 'g': 2}\n",
        "goat\n"
       ]
      }
     ],
     "prompt_number": 7
    },
    {
     "cell_type": "markdown",
     "metadata": {
      "slideshow": {
       "slide_type": "subslide"
      }
     },
     "source": [
      "## Dictionary methods"
     ]
    },
    {
     "cell_type": "markdown",
     "metadata": {
      "slideshow": {
       "slide_type": "fragment"
      }
     },
     "source": [
      "Deleteion"
     ]
    },
    {
     "cell_type": "code",
     "collapsed": false,
     "input": [
      "print mydict\n",
      "del mydict['a']\n",
      "print mydict"
     ],
     "language": "python",
     "metadata": {
      "slideshow": {
       "slide_type": "fragment"
      }
     },
     "outputs": [
      {
       "output_type": "stream",
       "stream": "stdout",
       "text": [
        "{'a': 1, 3: 'goat', 4: 'spam', 'g': 2}\n",
        "{3: 'goat', 4: 'spam', 'g': 2}\n"
       ]
      }
     ],
     "prompt_number": 8
    },
    {
     "cell_type": "markdown",
     "metadata": {
      "slideshow": {
       "slide_type": "fragment"
      }
     },
     "source": [
      "Accessing keys"
     ]
    },
    {
     "cell_type": "code",
     "collapsed": false,
     "input": [
      "print mydict.keys()"
     ],
     "language": "python",
     "metadata": {
      "slideshow": {
       "slide_type": "fragment"
      }
     },
     "outputs": [
      {
       "output_type": "stream",
       "stream": "stdout",
       "text": [
        "[3, 4, 'g']\n"
       ]
      }
     ],
     "prompt_number": 9
    },
    {
     "cell_type": "markdown",
     "metadata": {
      "slideshow": {
       "slide_type": "fragment"
      }
     },
     "source": [
      "**Important:** The dictionary keys are not in any particular order. \n",
      "If you want them sorted, you have to do so explicitly."
     ]
    },
    {
     "cell_type": "code",
     "collapsed": false,
     "input": [
      "mydict = {'a':1,'c':3,'b':42}\n",
      "print sorted(mydict.keys())"
     ],
     "language": "python",
     "metadata": {
      "slideshow": {
       "slide_type": "fragment"
      }
     },
     "outputs": [
      {
       "output_type": "stream",
       "stream": "stdout",
       "text": [
        "['a', 'b', 'c']\n"
       ]
      }
     ],
     "prompt_number": 11
    },
    {
     "cell_type": "markdown",
     "metadata": {
      "slideshow": {
       "slide_type": "fragment"
      }
     },
     "source": [
      "You can also get a list of values (again, **not** sorted)"
     ]
    },
    {
     "cell_type": "code",
     "collapsed": false,
     "input": [
      "print mydict.values()"
     ],
     "language": "python",
     "metadata": {
      "slideshow": {
       "slide_type": "fragment"
      }
     },
     "outputs": [
      {
       "output_type": "stream",
       "stream": "stdout",
       "text": [
        "[1, 3, 42]\n"
       ]
      }
     ],
     "prompt_number": 12
    },
    {
     "cell_type": "markdown",
     "metadata": {
      "slideshow": {
       "slide_type": "slide"
      }
     },
     "source": [
      "# Control strctures (if... then...)\n",
      "Often, our programs need to make decisions\n",
      "We do this by evaluating whether they are true or not"
     ]
    },
    {
     "cell_type": "code",
     "collapsed": false,
     "input": [
      "pounds = 1\n",
      "if pounds >= 1:\n",
      "    print \"Definitely African swallow\"\n",
      "else:\n",
      "    print \"European swallow?\""
     ],
     "language": "python",
     "metadata": {
      "slideshow": {
       "slide_type": "fragment"
      }
     },
     "outputs": [
      {
       "output_type": "stream",
       "stream": "stdout",
       "text": [
        "Definitely African swallow\n"
       ]
      }
     ],
     "prompt_number": 14
    },
    {
     "cell_type": "markdown",
     "metadata": {
      "slideshow": {
       "slide_type": "subslide"
      }
     },
     "source": [
      "## All variables in python have a truth value\n",
      "   - most everything is 'true' in the eyes of python, except\n",
      "      - False\n",
      "      - 0\n",
      "      - empty structues (strings, lists, dictionaries, etc.)"
     ]
    },
    {
     "cell_type": "code",
     "collapsed": false,
     "input": [
      "a = 'Holy Grail'\n",
      "if a:\n",
      "    print \"We have a quest\"\n",
      "#see how an empty string evaluates to false\n",
      "b = ''\n",
      "if b:\n",
      "    print \"We don't have a quest\""
     ],
     "language": "python",
     "metadata": {
      "slideshow": {
       "slide_type": "fragment"
      }
     },
     "outputs": [
      {
       "output_type": "stream",
       "stream": "stdout",
       "text": [
        "We have a quest\n"
       ]
      }
     ],
     "prompt_number": 77
    },
    {
     "cell_type": "markdown",
     "metadata": {
      "slideshow": {
       "slide_type": "fragment"
      }
     },
     "source": [
      "You can combina and negate logical expressions using boolean arithmetic"
     ]
    },
    {
     "cell_type": "code",
     "collapsed": false,
     "input": [
      "if a or b:\n",
      "    print \"We have a quest\"\n",
      "\n",
      "    # negate the expression\n",
      "if not (a or b):\n",
      "    print \"We don't have a quest\""
     ],
     "language": "python",
     "metadata": {
      "slideshow": {
       "slide_type": "fragment"
      }
     },
     "outputs": [
      {
       "output_type": "stream",
       "stream": "stdout",
       "text": [
        "We have a quest\n"
       ]
      }
     ],
     "prompt_number": 78
    },
    {
     "cell_type": "markdown",
     "metadata": {
      "slideshow": {
       "slide_type": "fragment"
      }
     },
     "source": [
      "   - If you are into this kind of thing, you can minimize brackets by learning the rules of [precedence](http://docs.python.org/2/reference/expressions.html#operator-precedence).\n",
      "   - However, it is good programming practice to have parentheses, which make code easier to read."
     ]
    },
    {
     "cell_type": "markdown",
     "metadata": {
      "slideshow": {
       "slide_type": "slide"
      }
     },
     "source": [
      "# Loops\n",
      "  - Very oftern computers have to do the same thing over and over\n",
      "  - The most common type of loop is a 'for loop'"
     ]
    },
    {
     "cell_type": "code",
     "collapsed": false,
     "input": [
      "for i in range(5):\n",
      "    print i"
     ],
     "language": "python",
     "metadata": {
      "slideshow": {
       "slide_type": "fragment"
      }
     },
     "outputs": [
      {
       "output_type": "stream",
       "stream": "stdout",
       "text": [
        "0\n",
        "1\n",
        "2\n",
        "3\n",
        "4\n"
       ]
      }
     ],
     "prompt_number": 15
    },
    {
     "cell_type": "markdown",
     "metadata": {
      "slideshow": {
       "slide_type": "fragment"
      }
     },
     "source": [
      "The 'while loop' can be used to accomplish an equivalent task"
     ]
    },
    {
     "cell_type": "code",
     "collapsed": false,
     "input": [
      "#'while loop'\n",
      "count = 0\n",
      "while count < 5:\n",
      "    print count\n",
      "    count +=1"
     ],
     "language": "python",
     "metadata": {
      "slideshow": {
       "slide_type": "fragment"
      }
     },
     "outputs": [
      {
       "output_type": "stream",
       "stream": "stdout",
       "text": [
        "0\n",
        "1\n",
        "2\n",
        "3\n",
        "4\n"
       ]
      }
     ],
     "prompt_number": 16
    },
    {
     "cell_type": "markdown",
     "metadata": {
      "slideshow": {
       "slide_type": "fragment"
      }
     },
     "source": [
      "## Questions\n",
      "  - Why would you use one loop over the other?\n",
      "  - Can you think of a danger in using while loops?"
     ]
    },
    {
     "cell_type": "markdown",
     "metadata": {
      "slideshow": {
       "slide_type": "slide"
      }
     },
     "source": [
      "# Integrating control structures with loops\n",
      "To make loops interesting, you have to make them smarter with control structures"
     ]
    },
    {
     "cell_type": "code",
     "collapsed": false,
     "input": [
      "stop_count = 3\n",
      "for i in range(5):\n",
      "    if i == 1:\n",
      "        print \"skipping 1\"\n",
      "        continue\n",
      "    if i >= stop_count:\n",
      "        print \"interrupted!\"\n",
      "        break\n",
      "    print \"counting %i\" %i"
     ],
     "language": "python",
     "metadata": {
      "slideshow": {
       "slide_type": "fragment"
      }
     },
     "outputs": [
      {
       "output_type": "stream",
       "stream": "stdout",
       "text": [
        "counting 0\n",
        "skipping 1\n",
        "counting 2\n",
        "interrupted!\n"
       ]
      }
     ],
     "prompt_number": 22
    },
    {
     "cell_type": "markdown",
     "metadata": {
      "slideshow": {
       "slide_type": "subslide"
      }
     },
     "source": [
      "In python, there is a cool way to know whether a for loop has finished, or was interrupted"
     ]
    },
    {
     "cell_type": "code",
     "collapsed": false,
     "input": [
      "stop_count = 6\n",
      "for i in range(5):\n",
      "    if i >= stop_count:\n",
      "        print \"interrupted!\"\n",
      "        break\n",
      "    print \"counting %i\" %i\n",
      "else:\n",
      "    print \"finished counting\""
     ],
     "language": "python",
     "metadata": {
      "slideshow": {
       "slide_type": "fragment"
      }
     },
     "outputs": [
      {
       "output_type": "stream",
       "stream": "stdout",
       "text": [
        "counting 0\n",
        "counting 1\n",
        "counting 2\n",
        "counting 3\n",
        "counting 4\n",
        "finished counting\n"
       ]
      }
     ],
     "prompt_number": 25
    },
    {
     "cell_type": "markdown",
     "metadata": {
      "slideshow": {
       "slide_type": "slide"
      }
     },
     "source": [
      "# Working with files\n",
      "  - A lot of tasks in bioinformatics have to do with reading and writing text files\n",
      "  - in python an open file is addressed by a 'handle'\n",
      "  - let's create a file"
     ]
    },
    {
     "cell_type": "code",
     "collapsed": false,
     "input": [
      "outfile = open(\"test.txt\",\"w\") # open file for writing\n",
      "for i in range(5):\n",
      "    outfile.write(str(i)+\"\\n\")  # note that we are converting the integer into a string and adding a \"newline\" character\n",
      "outfile.close()  # closing files handles is a good idea, although python closes everything automatically when the script finishes\n",
      "                 #in ipython it is probably not a great idea to clog it with open file handles, so keep track of what you open\n",
      "\n",
      "#using python to execute a shell command\n",
      "!ls"
     ],
     "language": "python",
     "metadata": {
      "slideshow": {
       "slide_type": "fragment"
      }
     },
     "outputs": [
      {
       "output_type": "stream",
       "stream": "stdout",
       "text": [
        "01. Introduction.ipynb                                        02. Variables, control structures and fundamental domga.ipynb test.txt\r\n",
        "01. Introduction.slides.html                                  README.md\r\n"
       ]
      }
     ],
     "prompt_number": 41
    },
    {
     "cell_type": "markdown",
     "metadata": {
      "slideshow": {
       "slide_type": "fragment"
      }
     },
     "source": [
      "Now, let's see what's inside using bash commands"
     ]
    },
    {
     "cell_type": "code",
     "collapsed": false,
     "input": [
      "cat test.txt"
     ],
     "language": "python",
     "metadata": {
      "slideshow": {
       "slide_type": "fragment"
      }
     },
     "outputs": [
      {
       "output_type": "stream",
       "stream": "stdout",
       "text": [
        "0\r\n",
        "1\r\n",
        "2\r\n",
        "3\r\n",
        "4\r\n"
       ]
      }
     ],
     "prompt_number": 40
    },
    {
     "cell_type": "markdown",
     "metadata": {
      "slideshow": {
       "slide_type": "subslide"
      }
     },
     "source": [
      "Now that we have a file, let's read it"
     ]
    },
    {
     "cell_type": "code",
     "collapsed": false,
     "input": [
      "infile = open(\"test.txt\")\n",
      "for line in infile:\n",
      "    print line\n",
      "infile.close()"
     ],
     "language": "python",
     "metadata": {
      "slideshow": {
       "slide_type": "fragment"
      }
     },
     "outputs": [
      {
       "output_type": "stream",
       "stream": "stdout",
       "text": [
        "0\n",
        "\n",
        "1\n",
        "\n",
        "2\n",
        "\n",
        "3\n",
        "\n",
        "4\n",
        "\n"
       ]
      }
     ],
     "prompt_number": 42
    },
    {
     "cell_type": "markdown",
     "metadata": {
      "slideshow": {
       "slide_type": "fragment"
      }
     },
     "source": [
      "Why is the output double-spaced?"
     ]
    },
    {
     "cell_type": "markdown",
     "metadata": {
      "slideshow": {
       "slide_type": "fragment"
      }
     },
     "source": [
      "Here's are two ways to fix it"
     ]
    },
    {
     "cell_type": "code",
     "collapsed": false,
     "input": [
      "print \"telling python not to print newline\"\n",
      "infile = open(\"test.txt\")\n",
      "for line in infile:\n",
      "    print line,\n",
      "infile.close()\n",
      "\n",
      "print \"stripping newline from string\"\n",
      "infile = open(\"test.txt\")\n",
      "for line in infile:\n",
      "    print line.rstrip()\n",
      "infile.close()"
     ],
     "language": "python",
     "metadata": {
      "slideshow": {
       "slide_type": "fragment"
      }
     },
     "outputs": [
      {
       "output_type": "stream",
       "stream": "stdout",
       "text": [
        "telling python not to print newline\n",
        "0\n",
        "1\n",
        "2\n",
        "3\n",
        "4\n",
        "stripping newline from string\n",
        "0\n",
        "1\n",
        "2\n",
        "3\n",
        "4\n"
       ]
      }
     ],
     "prompt_number": 44
    },
    {
     "cell_type": "markdown",
     "metadata": {
      "slideshow": {
       "slide_type": "fragment"
      }
     },
     "source": [
      "In an actual script, because python will close my file handles, I would write this loop as below.\n",
      "\n",
      "However, this is arguably bad programming practice, and you shouldn't do it, at least not in an ipython notebook."
     ]
    },
    {
     "cell_type": "code",
     "collapsed": false,
     "input": [
      "for line in open(\"test.txt\"):\n",
      "    print line.rstrip()"
     ],
     "language": "python",
     "metadata": {
      "slideshow": {
       "slide_type": "fragment"
      }
     },
     "outputs": [
      {
       "output_type": "stream",
       "stream": "stdout",
       "text": [
        "0\n",
        "1\n",
        "2\n",
        "3\n",
        "4\n"
       ]
      }
     ],
     "prompt_number": 45
    },
    {
     "cell_type": "markdown",
     "metadata": {
      "slideshow": {
       "slide_type": "slide"
      }
     },
     "source": [
      "# And finally a bit of biology\n",
      "I am going to introduce just a bit of biology, but the most important bit\n",
      "\n",
      "Here is the chemical structure of DNA as inferred by Watson and Crick (with an unacknowledged assist from Rosalind Franklin):"
     ]
    },
    {
     "cell_type": "code",
     "collapsed": false,
     "input": [
      "from IPython.display import display_pretty, display_html\n",
      "Image(filename='media/doublehelix.png')"
     ],
     "language": "python",
     "metadata": {
      "slideshow": {
       "slide_type": "fragment"
      }
     },
     "outputs": [
      {
       "metadata": {},
       "output_type": "pyout",
       "png": "[encoded data removed]",
       "prompt_number": 84,
       "text": [
        "<IPython.core.display.Image at 0x107fdf2d0>"
       ]
      }
     ],
     "prompt_number": 84
    },
    {
     "cell_type": "markdown",
     "metadata": {
      "slideshow": {
       "slide_type": "subslide"
      }
     },
     "source": [
      "DNA is held togethe by electrostatic forces between the bases"
     ]
    },
    {
     "cell_type": "code",
     "collapsed": false,
     "input": [
      "Image('media/DNA_chemical_structure.png')"
     ],
     "language": "python",
     "metadata": {
      "slideshow": {
       "slide_type": "fragment"
      }
     },
     "outputs": [
      {
       "metadata": {},
       "output_type": "pyout",
       "png": "[encoded data removed]",
       "prompt_number": 86,
       "text": [
        "<IPython.core.display.Image at 0x107fdf210>"
       ]
      }
     ],
     "prompt_number": 86
    },
    {
     "cell_type": "markdown",
     "metadata": {
      "slideshow": {
       "slide_type": "fragment"
      }
     },
     "source": [
      "Note that there are three bonds between **G**uanine and **C**ytosine, and two between **A**denine and **T**hymine\n",
      "\n",
      "What effect do you think this has?"
     ]
    },
    {
     "cell_type": "markdown",
     "metadata": {
      "slideshow": {
       "slide_type": "subslide"
      }
     },
     "source": [
      "In the cell DNA stores the genetic information. It is typically double-stranded, which adds redundancy.\n",
      "\n",
      "This information is then *transcribed* into RNA, which is a related molecule, although it has one different base"
     ]
    },
    {
     "cell_type": "code",
     "collapsed": false,
     "input": [
      "Image('media/transcription.png')"
     ],
     "language": "python",
     "metadata": {
      "slideshow": {
       "slide_type": "fragment"
      }
     },
     "outputs": [
      {
       "metadata": {},
       "output_type": "pyout",
       "png": "[encoded data removed]",
       "prompt_number": 87,
       "text": [
        "<IPython.core.display.Image at 0x107fdf410>"
       ]
      }
     ],
     "prompt_number": 87
    },
    {
     "cell_type": "markdown",
     "metadata": {
      "slideshow": {
       "slide_type": "slide"
      }
     },
     "source": [
      "The RNA-specific base is called **Uracil**.\n",
      "\n",
      "What base does it pair with?"
     ]
    },
    {
     "cell_type": "markdown",
     "metadata": {
      "slideshow": {
       "slide_type": "subslide"
      }
     },
     "source": [
      "Finally, RNA is **translated** into protein.\n",
      "\n",
      "Proteins are the things what do the work.\n",
      "\n",
      "What we see in the mirror is all protein."
     ]
    },
    {
     "cell_type": "code",
     "collapsed": false,
     "input": [
      "Image('media/translation.jpg')"
     ],
     "language": "python",
     "metadata": {
      "slideshow": {
       "slide_type": "fragment"
      }
     },
     "outputs": [
      {
       "jpeg": "[encoded data removed]",
       "metadata": {},
       "output_type": "pyout",
       "prompt_number": 88,
       "text": [
        "<IPython.core.display.Image at 0x107fdf3d0>"
       ]
      }
     ],
     "prompt_number": 88
    },
    {
     "cell_type": "markdown",
     "metadata": {
      "slideshow": {
       "slide_type": "fragment"
      }
     },
     "source": [
      "Note that every three bases on an RNA strand make up one **amino acid**, which is a fundamental unit of protein structure\n",
      "\n",
      "A three-letter sequence of bases that codes for an amino acid is called a **codon**"
     ]
    },
    {
     "cell_type": "markdown",
     "metadata": {
      "slideshow": {
       "slide_type": "fragment"
      }
     },
     "source": [
      "# This whole process (DNA -> RNA -> protein) is called the \"central dogma of molecular biology\"\n",
      "It is improtant to know"
     ]
    },
    {
     "cell_type": "markdown",
     "metadata": {
      "slideshow": {
       "slide_type": "slide"
      }
     },
     "source": [
      "# Working with biological strings\n",
      "  - the structure of DNA is analogous to a string\n",
      "  - it is ordered, and has an alphabet\n",
      "  - this is indeed how we model them in python, using the biopython set of libraries"
     ]
    },
    {
     "cell_type": "code",
     "collapsed": false,
     "input": [
      "from Bio.Seq import Seq\n",
      "from Bio.Alphabet import generic_dna, generic_protein\n",
      "myseq = Seq(\"agcccggcgatgtaa\",generic_dna)\n",
      "print myseq"
     ],
     "language": "python",
     "metadata": {
      "slideshow": {
       "slide_type": "fragment"
      }
     },
     "outputs": [
      {
       "output_type": "stream",
       "stream": "stdout",
       "text": [
        "agcccggcgatgtaa\n"
       ]
      }
     ],
     "prompt_number": 61
    },
    {
     "cell_type": "markdown",
     "metadata": {
      "slideshow": {
       "slide_type": "fragment"
      }
     },
     "source": [
      "You can get both strands of the double helix:"
     ]
    },
    {
     "cell_type": "code",
     "collapsed": false,
     "input": [
      "print myseq\n",
      "print \"\".join([\"|\"]*len(myseq))\n",
      "print myseq.complement()"
     ],
     "language": "python",
     "metadata": {
      "slideshow": {
       "slide_type": "fragment"
      }
     },
     "outputs": [
      {
       "output_type": "stream",
       "stream": "stdout",
       "text": [
        "agcccggcgatgtaa\n",
        "|||||||||||||||\n",
        "tcgggccgctacatt\n"
       ]
      }
     ],
     "prompt_number": 68
    },
    {
     "cell_type": "markdown",
     "metadata": {
      "slideshow": {
       "slide_type": "fragment"
      }
     },
     "source": [
      "Observe that I treated myseq has properties of a string, and we can get its length with the *len* command\n",
      "\n",
      "You can get more information on what you can do with strings (and other objects using *dir*)"
     ]
    },
    {
     "cell_type": "code",
     "collapsed": false,
     "input": [
      "dir(myseq)"
     ],
     "language": "python",
     "metadata": {
      "slideshow": {
       "slide_type": "fragment"
      }
     },
     "outputs": [],
     "prompt_number": 70
    },
    {
     "cell_type": "markdown",
     "metadata": {
      "slideshow": {
       "slide_type": "fragment"
      }
     },
     "source": [
      "And of course using an ipython magic"
     ]
    },
    {
     "cell_type": "code",
     "collapsed": false,
     "input": [
      "?myseq"
     ],
     "language": "python",
     "metadata": {
      "slideshow": {
       "slide_type": "fragment"
      }
     },
     "outputs": []
    },
    {
     "cell_type": "markdown",
     "metadata": {
      "slideshow": {
       "slide_type": "subslide"
      }
     },
     "source": [
      "## Implementing the central dogma of molecular biology in python"
     ]
    },
    {
     "cell_type": "markdown",
     "metadata": {
      "slideshow": {
       "slide_type": "fragment"
      }
     },
     "source": [
      "Transcribing DNA to RNA"
     ]
    },
    {
     "cell_type": "code",
     "collapsed": false,
     "input": [
      "print myseq.transcribe()"
     ],
     "language": "python",
     "metadata": {
      "slideshow": {
       "slide_type": "fragment"
      }
     },
     "outputs": [
      {
       "output_type": "stream",
       "stream": "stdout",
       "text": [
        "agcccggcgauguaa\n"
       ]
      }
     ],
     "prompt_number": 62
    },
    {
     "cell_type": "markdown",
     "metadata": {
      "slideshow": {
       "slide_type": "fragment"
      }
     },
     "source": [
      "RNA to protein"
     ]
    },
    {
     "cell_type": "code",
     "collapsed": false,
     "input": [
      "print myseq.transcribe().translate()"
     ],
     "language": "python",
     "metadata": {
      "slideshow": {
       "slide_type": "fragment"
      }
     },
     "outputs": [
      {
       "output_type": "stream",
       "stream": "stdout",
       "text": [
        "SPAM*\n"
       ]
      }
     ],
     "prompt_number": 63
    },
    {
     "cell_type": "markdown",
     "metadata": {
      "slideshow": {
       "slide_type": "fragment"
      }
     },
     "source": [
      "In most cases, you can shortcut the RNA step, if you are interested in the protein directly"
     ]
    },
    {
     "cell_type": "code",
     "collapsed": false,
     "input": [
      "print myseq.translate()"
     ],
     "language": "python",
     "metadata": {
      "slideshow": {
       "slide_type": "fragment"
      }
     },
     "outputs": [
      {
       "output_type": "stream",
       "stream": "stdout",
       "text": [
        "SPAM*\n"
       ]
      }
     ],
     "prompt_number": 64
    },
    {
     "cell_type": "markdown",
     "metadata": {
      "slideshow": {
       "slide_type": "fragment"
      }
     },
     "source": [
      "By the way, what does the asterisk (\"*\") mean?"
     ]
    },
    {
     "cell_type": "markdown",
     "metadata": {
      "slideshow": {
       "slide_type": "slide"
      }
     },
     "source": [
      "# Homework for Tuesday\n",
      "- intall git (see [tutorial](https://help.github.com/articles/set-up-git))\n",
      "- set up an account with [bitbucket](http://bitbucket.org)\n",
      "- second problem set on [rosalind.info](http://rosalind.info/classes/73/)"
     ]
    },
    {
     "cell_type": "markdown",
     "metadata": {
      "slideshow": {
       "slide_type": "skip"
      }
     },
     "source": []
    }
   ],
   "metadata": {}
  }
 ]
}